{
 "cells": [
  {
   "cell_type": "markdown",
   "metadata": {},
   "source": [
    "# Health Survey Data Analysis\n",
    "\n",
    "Christina Craig"
   ]
  },
  {
   "cell_type": "markdown",
   "metadata": {},
   "source": [
    "## Executive Summary\n",
    "\n",
    "The main project goals are to evalute for the confedence interval for the sample and to do a basic t-test on the hypothesis that owning a home may be different then renting when it comes to overall health.\n",
    "\n",
    "After doing a 2-tailed T-test on the dataset, we couldn't reject our null hypothesis that there is no signifigant difference in health between owning or renting your home."
   ]
  },
  {
   "cell_type": "markdown",
   "metadata": {},
   "source": [
    "\n",
    "## The Data\n",
    "\n",
    "\n",
    "This data is sourced from CDC Behavioral Risk Factor Surveillance System (BRFSS). This data set is the New York responses from the 2020-2021 survey. \n",
    "\n",
    "The column `PHYSHLTH` contains the responces to the question `Now thinking about your physical health, which includes physical illness and injury, for how many days during the past 30 days was your physical health not good?`. \n",
    "\n",
    "The responses were coded as :\n",
    "\n",
    "| Value  | Value Label          |\n",
    "| ------ | -------------------- |\n",
    "| 1 - 30 | Number of days       |\n",
    "| 88     | None                 |\n",
    "| 77     | Don't know/Not sure  |\n",
    "| 99     | Refused              |\n",
    "| BLANK  | Not asked or Missing |\n",
    "\n",
    "The column `RENTHOM1` contains the responses to the question `Do you own or rent your home?`.\n",
    "\n",
    "The responses were coded as :\n",
    "\n",
    "| Value | Value Label          |\n",
    "| ----- | -------------------- |\n",
    "| 1     | Own                  |\n",
    "| 2     | Rent                 |\n",
    "| 3     | Other arrangement    |\n",
    "| 7     | Don't know/Not Sure  |\n",
    "| 9     | Refused              |\n",
    "| BLANK | Not asked or Missing |\n",
    "\n"
   ]
  },
  {
   "cell_type": "code",
   "execution_count": 2,
   "metadata": {},
   "outputs": [],
   "source": [
    "import matplotlib.pyplot as plt\n",
    "import numpy as np\n",
    "import pandas as pd\n",
    "import seaborn as sns\n",
    "import scipy.stats as stats\n",
    "\n",
    "\n",
    "file_path = \"https://raw.githubusercontent.com/learn-co-curriculum/da-phase3-project-enterprise/main/brfss_ny.csv\"\n",
    "df = pd.read_csv(file_path)"
   ]
  },
  {
   "cell_type": "markdown",
   "metadata": {},
   "source": [
    "## Data Preparation\n",
    "\n",
    "To prepare `PHYSHLTH1`, we need to replace the code 88, which stands for 0 days feeling unhealthy with a 0. Then, we need to remove the other codes by simply limiting the dataset down to anything 30 and under, for the number of days in the month. \n",
    "\n",
    "For `RENTHOM1`, we just need to limit the dataset to anything just containing 1 (own) or a 2 (rent) in that column."
   ]
  },
  {
   "cell_type": "code",
   "execution_count": 3,
   "metadata": {},
   "outputs": [
    {
     "data": {
      "text/plain": [
       "0.0     10565\n",
       "30.0      768\n",
       "2.0       597\n",
       "1.0       410\n",
       "5.0       367\n",
       "3.0       361\n",
       "10.0      231\n",
       "7.0       209\n",
       "15.0      194\n",
       "4.0       163\n",
       "20.0      147\n",
       "14.0      144\n",
       "25.0       55\n",
       "6.0        47\n",
       "8.0        45\n",
       "21.0       26\n",
       "28.0       22\n",
       "12.0       22\n",
       "9.0        11\n",
       "29.0        8\n",
       "13.0        7\n",
       "18.0        6\n",
       "17.0        6\n",
       "16.0        6\n",
       "24.0        5\n",
       "27.0        5\n",
       "11.0        4\n",
       "26.0        3\n",
       "23.0        3\n",
       "19.0        2\n",
       "22.0        1\n",
       "Name: PHYSHLTH, dtype: int64"
      ]
     },
     "execution_count": 3,
     "metadata": {},
     "output_type": "execute_result"
    }
   ],
   "source": [
    "# replacing the 88 code with a 0\n",
    "\n",
    "df['PHYSHLTH'].replace(88, 0, inplace = True)\n",
    "\n",
    "# limiting the dataset to 30 days and under\n",
    "\n",
    "df = df[df['PHYSHLTH'] <= 30]\n",
    "\n",
    "# Just making sure ...\n",
    "\n",
    "df['PHYSHLTH'].value_counts()"
   ]
  },
  {
   "cell_type": "code",
   "execution_count": 4,
   "metadata": {},
   "outputs": [
    {
     "data": {
      "text/plain": [
       "1.0    8453\n",
       "2.0    5206\n",
       "Name: RENTHOM1, dtype: int64"
      ]
     },
     "execution_count": 4,
     "metadata": {},
     "output_type": "execute_result"
    }
   ],
   "source": [
    "# Limiting the data by the column `RENTHOM1` to 1 or 2\n",
    "\n",
    "df = df[df['RENTHOM1'] <= 2]\n",
    "\n",
    "# Just making sure\n",
    "\n",
    "df['RENTHOM1'].value_counts()"
   ]
  },
  {
   "cell_type": "markdown",
   "metadata": {},
   "source": [
    "## Confidence Interval for Mean of `PHYSHLTH`"
   ]
  },
  {
   "cell_type": "code",
   "execution_count": 5,
   "metadata": {},
   "outputs": [],
   "source": [
    "# Bootstrapping for the somewhat normal curve\n",
    "\n",
    "np.random.seed(1976)\n",
    "bs_sample_mean = []\n",
    "\n",
    "for i in range(0, 10000):\n",
    "    sample = np.random.choice(a=df.PHYSHLTH, size=50)\n",
    "    sample_mean = np.mean(sample)\n",
    "    bs_sample_mean.append(sample_mean)\n"
   ]
  },
  {
   "cell_type": "code",
   "execution_count": 6,
   "metadata": {},
   "outputs": [],
   "source": [
    "# Setting up the variables\n",
    "\n",
    "df_physhlth_mean = sum(bs_sample_mean) / len(bs_sample_mean)\n",
    "df_physhlth_std = np.std(bs_sample_mean)\n",
    "df_physhlth_size = len(bs_sample_mean)\n",
    "se = df_physhlth_std/np.sqrt(df_physhlth_size)\n"
   ]
  },
  {
   "cell_type": "code",
   "execution_count": 7,
   "metadata": {
    "scrolled": true
   },
   "outputs": [],
   "source": [
    "physhlth_conf = stats.t.interval(alpha = .95, loc=df_physhlth_mean, scale=se, df=df_physhlth_size-1)"
   ]
  },
  {
   "cell_type": "code",
   "execution_count": 8,
   "metadata": {},
   "outputs": [
    {
     "data": {
      "text/plain": [
       "(3.037524265885255, 3.0797557341147734)"
      ]
     },
     "execution_count": 8,
     "metadata": {},
     "output_type": "execute_result"
    }
   ],
   "source": [
    "physhlth_conf"
   ]
  },
  {
   "cell_type": "markdown",
   "metadata": {},
   "source": [
    "With a 95% confidence, the population average for feeling unwell in a particular month in New York state is between 3.0476 days to 3.0798 days. \n"
   ]
  },
  {
   "cell_type": "markdown",
   "metadata": {},
   "source": [
    "## Differences in `PHYSHLTH` Based on `RENTHOM1`\n",
    "\n",
    "### How Does `PHYSHLTH` Differ Based on `RENTHOM1`?\n",
    "\n",
    "For this section, we're only interested in the answers from people that own or rent their homes, so we limit down the dataset and create two subsets based on own or rent."
   ]
  },
  {
   "cell_type": "code",
   "execution_count": 9,
   "metadata": {},
   "outputs": [],
   "source": [
    "# Making a subset of home owners\n",
    "\n",
    "home_own = df[df['RENTHOM1'] == 1]\n",
    "\n",
    "# Making a subset of renters\n",
    "\n",
    "home_rent = df[df['RENTHOM1'] == 2]\n"
   ]
  },
  {
   "cell_type": "code",
   "execution_count": 11,
   "metadata": {},
   "outputs": [
    {
     "data": {
      "image/png": "[encoded data removed]",
      "text/plain": [
       "<Figure size 864x576 with 1 Axes>"
      ]
     },
     "metadata": {
      "needs_background": "light"
     },
     "output_type": "display_data"
    }
   ],
   "source": [
    "x = home_own.PHYSHLTH\n",
    "y = home_rent.PHYSHLTH\n",
    "plt.figure(figsize=(12,8))\n",
    "\n",
    "plt.hist([x, y], label=['Owns Home', 'Rents Home'])\n",
    "\n",
    "plt.legend(loc='upper right')\n",
    "plt.show()"
   ]
  },
  {
   "cell_type": "markdown",
   "metadata": {},
   "source": [
    "From the graph is looks like people that rented reported feeling unwell about the same as then home owners, but the home owner subset is around 3200 rows larger then the renters subset."
   ]
  },
  {
   "cell_type": "markdown",
   "metadata": {},
   "source": [
    "### Is the Difference Statistically Significant?\n",
    "\n",
    "TODO: describe the null and alternative hypotheses in Markdown, including whether this is a one-tailed or two-tailed test\n",
    "\n",
    "Our null hypothesis is there is no difference between owning and renting your home.\n",
    "\n",
    "Our alternative hypothesis is there significant difference between owning and renting your home.\n",
    "\n",
    "We're doing a two-tailed independent t-test so we can see if there's changes in either direction, and the populations are indepedent of each other.\n",
    "\n",
    "We can't reject our null hypothesis since the p-value is greater than our alpha of .05. "
   ]
  },
  {
   "cell_type": "code",
   "execution_count": null,
   "metadata": {},
   "outputs": [],
   "source": [
    "# creating sample sets\n",
    "\n",
    "own_sample = home_own.sample(n=250, random_state=1976)\n",
    "rent_sample = home_rent.sample(n=250, random_state=1976)"
   ]
  },
  {
   "cell_type": "code",
   "execution_count": null,
   "metadata": {},
   "outputs": [],
   "source": [
    "print(\"Variance of Home Owners sample: \", own_sample.PHYSHLTH.var())\n",
    "print(\"Variance of Renters sample: \", rent_sample.PHYSHLTH.var())"
   ]
  },
  {
   "cell_type": "code",
   "execution_count": null,
   "metadata": {},
   "outputs": [],
   "source": [
    "results = stats.ttest_ind(own_sample.PHYSHLTH, rent_sample.PHYSHLTH, equal_var=False, alternative='two-sided')\n",
    "results"
   ]
  },
  {
   "cell_type": "code",
   "execution_count": null,
   "metadata": {},
   "outputs": [],
   "source": [
    "p_val = results[1]\n",
    "print('P value of t test: ', p_val)"
   ]
  },
  {
   "cell_type": "markdown",
   "metadata": {},
   "source": [
    "We can't reject our null hypothesis since the p-value is greater than our alpha of .05. "
   ]
  },
  {
   "cell_type": "markdown",
   "metadata": {},
   "source": [
    "## Next Steps\n",
    "\n",
    "I think it would be interesting to see if there's any relationship between the length of time since someone's last smoked, using LASTSMK2, and how they feel for the time period surveyed."
   ]
  },
  {
   "cell_type": "code",
   "execution_count": null,
   "metadata": {},
   "outputs": [],
   "source": []
  }
 ],
 "metadata": {
  "kernelspec": {
   "display_name": "Python 3",
   "language": "python",
   "name": "python3"
  },
  "language_info": {
   "codemirror_mode": {
    "name": "ipython",
    "version": 3
   },
   "file_extension": ".py",
   "mimetype": "text/x-python",
   "name": "python",
   "nbconvert_exporter": "python",
   "pygments_lexer": "ipython3",
   "version": "3.9.5"
  }
 },
 "nbformat": 4,
 "nbformat_minor": 4
}
